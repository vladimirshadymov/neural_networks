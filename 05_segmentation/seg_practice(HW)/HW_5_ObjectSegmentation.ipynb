{
 "cells": [
  {
   "cell_type": "markdown",
   "metadata": {},
   "source": [
    "# ДЗ №5 Сегментация\n",
    "Реализация сети для сегметации объектов.\n",
    "\n",
    "__Задача__ сделать работоспособную сеть для сегментирования изображений авто на основе предложенного шаблона\n",
    "\n",
    "\n",
    "![Segmentation](../img/Segment04.png)\n",
    "\n",
    "### Что делаем\n",
    "Реализуем сверточную сеть для семантической сегментации, downsample->upsample -> Классификация каждого пикселя выходного изображения: 0 - не авто, 1 - авто. Выход картинка с x каналами, для классификации.\n",
    "1. В файле model.py   - имплементировать модель вместо заглушки\n",
    "2. В файле train.py - поставить правильный loss\n",
    "\n",
    "### Данные\n",
    "[Carvana](https://cloud.mail.ru/public/3tdq/AvtaHkDAb)\n",
    "\n",
    "### Зависимости\n",
    " - tensorflow  - поддержка tensorboard\n",
    " - tensorboardx - тензор боард для pytorch\n",
    " - tqdm         - пакет для отрисовки прогресс баров\n",
    "\n",
    "### Запуск пакета\n",
    "_ По умолчанию все данные лежат в папке ./data/. Если вы положили их в другую папку, то поправте в скрипте train.py пути _\n",
    "<br/>\n",
    "Запускаем обучение сети\n",
    "python train.py\n",
    "\n",
    "Результаты обучение можно наблюдать в tensorboard\n",
    "\n",
    "Запуск tensorboard --log ./od_log"
   ]
  },
  {
   "cell_type": "markdown",
   "metadata": {},
   "source": [
    "## Результаты\n",
    "1. Код model.py, train.py\n",
    "2. Модель state_dicts()"
   ]
  },
  {
   "cell_type": "markdown",
   "metadata": {},
   "source": [
    "### Тут нужно сделать загрузку состояния вашей модели, код модели в ноутбук тащить не нужно, достаточно сделать import model\n"
   ]
  },
  {
   "cell_type": "code",
   "execution_count": 1,
   "metadata": {
    "collapsed": true
   },
   "outputs": [],
   "source": [
    "%matplotlib inline"
   ]
  },
  {
   "cell_type": "code",
   "execution_count": 2,
   "metadata": {
    "collapsed": true
   },
   "outputs": [],
   "source": [
    "import torch.nn as nn\n",
    "import torch\n",
    "import matplotlib.pyplot as plt"
   ]
  },
  {
   "cell_type": "code",
   "execution_count": 3,
   "metadata": {
    "collapsed": true
   },
   "outputs": [],
   "source": [
    "# Загружаем модель \n",
    "from model import SegmenterModel"
   ]
  },
  {
   "cell_type": "code",
   "execution_count": 4,
   "metadata": {
    "collapsed": false
   },
   "outputs": [
    {
     "data": {
      "text/plain": [
       "SegmenterModel(\n",
       "  (conv1): Conv2d(3, 16, kernel_size=(11, 11), stride=(2, 2), padding=(5, 5))\n",
       "  (bn1): BatchNorm2d(16, eps=1e-05, momentum=0.1, affine=True, track_running_stats=True)\n",
       "  (dropout1): Dropout2d(p=0.2)\n",
       "  (high_res1_down): Sequential(\n",
       "    (0): Conv2d(16, 16, kernel_size=(3, 3), stride=(1, 1), padding=(1, 1))\n",
       "    (1): BatchNorm2d(16, eps=1e-05, momentum=0.1, affine=True, track_running_stats=True)\n",
       "    (2): ReLU(inplace)\n",
       "  )\n",
       "  (dropout2): Dropout2d(p=0.2)\n",
       "  (high_res2_down): Sequential(\n",
       "    (0): Conv2d(16, 16, kernel_size=(3, 3), stride=(1, 1), padding=(1, 1))\n",
       "    (1): BatchNorm2d(16, eps=1e-05, momentum=0.1, affine=True, track_running_stats=True)\n",
       "    (2): ReLU(inplace)\n",
       "  )\n",
       "  (dropout3): Dropout2d(p=0.2)\n",
       "  (conv2): Conv2d(16, 32, kernel_size=(11, 11), stride=(2, 2), padding=(5, 5))\n",
       "  (bn2): BatchNorm2d(32, eps=1e-05, momentum=0.1, affine=True, track_running_stats=True)\n",
       "  (dropout4): Dropout2d(p=0.2)\n",
       "  (middle_res1_down): Sequential(\n",
       "    (0): Conv2d(32, 32, kernel_size=(3, 3), stride=(1, 1), padding=(1, 1))\n",
       "    (1): BatchNorm2d(32, eps=1e-05, momentum=0.1, affine=True, track_running_stats=True)\n",
       "    (2): ReLU(inplace)\n",
       "  )\n",
       "  (dropout5): Dropout2d(p=0.2)\n",
       "  (middle_res2_down): Sequential(\n",
       "    (0): Conv2d(32, 32, kernel_size=(3, 3), stride=(1, 1), padding=(1, 1))\n",
       "    (1): BatchNorm2d(32, eps=1e-05, momentum=0.1, affine=True, track_running_stats=True)\n",
       "    (2): ReLU(inplace)\n",
       "  )\n",
       "  (dropout6): Dropout2d(p=0.2)\n",
       "  (conv3): Conv2d(32, 64, kernel_size=(11, 11), stride=(2, 2), padding=(5, 5))\n",
       "  (bn3): BatchNorm2d(64, eps=1e-05, momentum=0.1, affine=True, track_running_stats=True)\n",
       "  (dropout7): Dropout(p=0.2)\n",
       "  (low_res1_down): Sequential(\n",
       "    (0): Conv2d(64, 64, kernel_size=(3, 3), stride=(1, 1), padding=(1, 1))\n",
       "    (1): BatchNorm2d(64, eps=1e-05, momentum=0.1, affine=True, track_running_stats=True)\n",
       "    (2): ReLU(inplace)\n",
       "  )\n",
       "  (dropout8): Dropout(p=0.2)\n",
       "  (low_res2_down): Sequential(\n",
       "    (0): Conv2d(64, 64, kernel_size=(3, 3), stride=(1, 1), padding=(1, 1))\n",
       "    (1): BatchNorm2d(64, eps=1e-05, momentum=0.1, affine=True, track_running_stats=True)\n",
       "    (2): ReLU(inplace)\n",
       "  )\n",
       "  (dropout9): Dropout2d(p=0.2)\n",
       "  (deconv1): ConvTranspose2d(64, 32, kernel_size=(11, 11), stride=(2, 2), padding=(5, 5), output_padding=(1, 1))\n",
       "  (bn4): BatchNorm2d(32, eps=1e-05, momentum=0.1, affine=True, track_running_stats=True)\n",
       "  (dropout10): Dropout2d(p=0.2)\n",
       "  (middle_res1_up): Sequential(\n",
       "    (0): Conv2d(32, 32, kernel_size=(3, 3), stride=(1, 1), padding=(1, 1))\n",
       "    (1): BatchNorm2d(32, eps=1e-05, momentum=0.1, affine=True, track_running_stats=True)\n",
       "    (2): ReLU(inplace)\n",
       "  )\n",
       "  (dropout11): Dropout2d(p=0.2)\n",
       "  (middle_res2_up): Sequential(\n",
       "    (0): Conv2d(32, 32, kernel_size=(3, 3), stride=(1, 1), padding=(1, 1))\n",
       "    (1): BatchNorm2d(32, eps=1e-05, momentum=0.1, affine=True, track_running_stats=True)\n",
       "    (2): ReLU(inplace)\n",
       "  )\n",
       "  (dropout12): Dropout2d(p=0.2)\n",
       "  (deconv2): ConvTranspose2d(32, 16, kernel_size=(11, 11), stride=(2, 2), padding=(5, 5), output_padding=(1, 1))\n",
       "  (bn5): BatchNorm2d(16, eps=1e-05, momentum=0.1, affine=True, track_running_stats=True)\n",
       "  (dropout13): Dropout2d(p=0.2)\n",
       "  (high_res1_up): Sequential(\n",
       "    (0): Conv2d(16, 16, kernel_size=(3, 3), stride=(1, 1), padding=(1, 1))\n",
       "    (1): BatchNorm2d(16, eps=1e-05, momentum=0.1, affine=True, track_running_stats=True)\n",
       "    (2): ReLU(inplace)\n",
       "  )\n",
       "  (dropout14): Dropout2d(p=0.2)\n",
       "  (high_res2_up): Sequential(\n",
       "    (0): Conv2d(16, 16, kernel_size=(3, 3), stride=(1, 1), padding=(1, 1))\n",
       "    (1): BatchNorm2d(16, eps=1e-05, momentum=0.1, affine=True, track_running_stats=True)\n",
       "    (2): ReLU(inplace)\n",
       "  )\n",
       "  (dropout15): Dropout2d(p=0.2)\n",
       "  (deconv3): ConvTranspose2d(16, 2, kernel_size=(11, 11), stride=(2, 2), padding=(5, 5), output_padding=(1, 1))\n",
       "  (bn6): BatchNorm2d(2, eps=1e-05, momentum=0.1, affine=True, track_running_stats=True)\n",
       "  (softmax2d): Softmax2d()\n",
       "  (tanhshrink): Tanhshrink()\n",
       ")"
      ]
     },
     "execution_count": 4,
     "metadata": {},
     "output_type": "execute_result"
    }
   ],
   "source": [
    "m = SegmenterModel()\n",
    "m.load_state_dict(torch.load('model_state_dict_CrossEntropyLoss.pth.tar'))\n",
    "m.eval()"
   ]
  },
  {
   "cell_type": "code",
   "execution_count": 5,
   "metadata": {
    "collapsed": false
   },
   "outputs": [],
   "source": [
    "from carvana_dataset import CarvanaDataset\n",
    "import torch.utils.data as dt\n",
    "from tqdm import *\n",
    "## Реализуем тест модели на тестовом сете\n",
    "## замеряем среднюю метрику по тестовому сету, пример кода есть в train.py"
   ]
  },
  {
   "cell_type": "code",
   "execution_count": 6,
   "metadata": {
    "collapsed": false
   },
   "outputs": [
    {
     "name": "stdout",
     "output_type": "stream",
     "text": [
      "\n",
      "Test loss 0.015042223410284895\n"
     ]
    }
   ],
   "source": [
    "test = './data/test/'\n",
    "test_masks = './data/test_masks'\n",
    "useCuda = True\n",
    "criterion = nn.BCELoss()\n",
    "if useCuda == True:\n",
    "    m = m.cuda()\n",
    "    criterion= criterion.cuda()\n",
    "ds_test = CarvanaDataset(test, test_masks)\n",
    "dl_test = dt.DataLoader(ds_test, shuffle=False, num_workers=4, batch_size=5)\n",
    "test_loss = 0\n",
    "m.eval()\n",
    "for iter, (i, t) in enumerate(tqdm_notebook(dl_test)):\n",
    "            with torch.no_grad():\n",
    "                if useCuda :\n",
    "                    i = i.cuda()\n",
    "                    t = t.cuda()\n",
    "                o = m(i)\n",
    "                tmp = torch.cat((t, 1.-t), dim=1)\n",
    "                if useCuda :\n",
    "                    tmp = tmp.cuda()\n",
    "                loss = criterion(o, tmp)\n",
    "                test_loss += loss.item()\n",
    "\n",
    "test_loss = test_loss / float(len(ds_test))\n",
    "print (\"Test loss\", test_loss)"
   ]
  },
  {
   "cell_type": "markdown",
   "metadata": {},
   "source": [
    "### Тут нужно нарисовать картинки, с результатими сегментации из тестового сета"
   ]
  },
  {
   "cell_type": "code",
   "execution_count": 7,
   "metadata": {
    "collapsed": true
   },
   "outputs": [],
   "source": [
    "import random\n",
    "random.seed()"
   ]
  },
  {
   "cell_type": "code",
   "execution_count": 8,
   "metadata": {
    "collapsed": true
   },
   "outputs": [],
   "source": [
    "idx = random.randint(0, len(ds_test))"
   ]
  },
  {
   "cell_type": "code",
   "execution_count": 9,
   "metadata": {
    "collapsed": true
   },
   "outputs": [],
   "source": [
    "# Для рандомного изображения рисуем его маску сгенерированную сеткой, само изображение и результат сегментации\n",
    "t_image, t_image_mask = ds_test[idx]\n",
    "if useCuda == True:\n",
    "    t_image = t_image.cuda()\n",
    "    t_image_mask = t_image_mask.cuda()"
   ]
  },
  {
   "cell_type": "markdown",
   "metadata": {},
   "source": [
    "### Исходное изображение"
   ]
  },
  {
   "cell_type": "code",
   "execution_count": 10,
   "metadata": {
    "collapsed": true
   },
   "outputs": [],
   "source": [
    "from torchvision.transforms import ToPILImage\n",
    "to_img = ToPILImage()"
   ]
  },
  {
   "cell_type": "code",
   "execution_count": 11,
   "metadata": {
    "collapsed": false
   },
   "outputs": [
    {
     "name": "stdout",
     "output_type": "stream",
     "text": [
      "torch.Size([3, 224, 224])\n"
     ]
    },
    {
     "data": {
      "text/plain": [
       "<matplotlib.image.AxesImage at 0x7fe33c15f748>"
      ]
     },
     "execution_count": 11,
     "metadata": {},
     "output_type": "execute_result"
    },
    {
     "data": {
      "image/png": "[encoded data removed]",
      "text/plain": [
       "<matplotlib.figure.Figure at 0x7fe33c6820f0>"
      ]
     },
     "metadata": {},
     "output_type": "display_data"
    }
   ],
   "source": [
    "print(t_image.size())\n",
    "img = to_img(t_image.detach().cpu())\n",
    "plt.imshow(img)"
   ]
  },
  {
   "cell_type": "markdown",
   "metadata": {},
   "source": [
    "### Маска, сгенерированная сеткой"
   ]
  },
  {
   "cell_type": "code",
   "execution_count": 12,
   "metadata": {
    "collapsed": false
   },
   "outputs": [
    {
     "name": "stdout",
     "output_type": "stream",
     "text": [
      "torch.Size([224, 224])\n"
     ]
    },
    {
     "data": {
      "text/plain": [
       "<matplotlib.image.AxesImage at 0x7fe33c044b38>"
      ]
     },
     "execution_count": 12,
     "metadata": {},
     "output_type": "execute_result"
    },
    {
     "data": {
      "image/png": "[encoded data removed]",
      "text/plain": [
       "<matplotlib.figure.Figure at 0x7fe3b49847f0>"
      ]
     },
     "metadata": {},
     "output_type": "display_data"
    }
   ],
   "source": [
    "o_image = m(t_image.unsqueeze(0)).chunk(2, dim=1)[0].squeeze(0).squeeze(0).cpu()\n",
    "o_image[o_image >= 0.5] = 1  # бустим границы\n",
    "o_image[o_image < 0.5] = 0\n",
    "print(o_image.size())\n",
    "plt.imshow(o_image.detach().numpy(), cmap='gray')"
   ]
  },
  {
   "cell_type": "markdown",
   "metadata": {},
   "source": [
    "### Тестовая маска"
   ]
  },
  {
   "cell_type": "code",
   "execution_count": 13,
   "metadata": {
    "collapsed": true
   },
   "outputs": [],
   "source": [
    "t_image_mask = t_image_mask.squeeze(0)"
   ]
  },
  {
   "cell_type": "code",
   "execution_count": 14,
   "metadata": {
    "collapsed": false
   },
   "outputs": [
    {
     "name": "stdout",
     "output_type": "stream",
     "text": [
      "torch.Size([224, 224])\n"
     ]
    },
    {
     "data": {
      "text/plain": [
       "<matplotlib.image.AxesImage at 0x7fe32dbb27f0>"
      ]
     },
     "execution_count": 14,
     "metadata": {},
     "output_type": "execute_result"
    },
    {
     "data": {
      "image/png": "[encoded data removed]",
      "text/plain": [
       "<matplotlib.figure.Figure at 0x7fe33c0aecf8>"
      ]
     },
     "metadata": {},
     "output_type": "display_data"
    }
   ],
   "source": [
    "print(t_image_mask.size())\n",
    "plt.imshow(t_image_mask.detach().cpu().numpy(), cmap='gray')"
   ]
  }
 ],
 "metadata": {
  "kernelspec": {
   "display_name": "Python 3",
   "language": "python",
   "name": "python3"
  },
  "language_info": {
   "codemirror_mode": {
    "name": "ipython",
    "version": 3
   },
   "file_extension": ".py",
   "mimetype": "text/x-python",
   "name": "python",
   "nbconvert_exporter": "python",
   "pygments_lexer": "ipython3",
   "version": "3.6.0"
  },
  "widgets": {
   "state": {
    "24f47265bf7144279a335447c932ad8f": {
     "views": [
      {
       "cell_index": 8
      }
     ]
    }
   },
   "version": "1.2.0"
  }
 },
 "nbformat": 4,
 "nbformat_minor": 2
}
