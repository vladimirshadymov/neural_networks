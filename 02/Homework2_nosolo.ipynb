{
 "cells": [
  {
   "cell_type": "code",
   "execution_count": 1,
   "metadata": {},
   "outputs": [],
   "source": [
    "import numpy as np\n",
    "import matplotlib.pyplot as plt\n",
    "import pickle\n",
    "%matplotlib inline"
   ]
  },
  {
   "cell_type": "code",
   "execution_count": 2,
   "metadata": {},
   "outputs": [],
   "source": [
    "# класс one-hot encoder'а для MNIST\n",
    "class OneHotEncoder:\n",
    "    def __init__(self):\n",
    "        self.transform_mapping = np.zeros((10,10))\n",
    "        for i in range(self.transform_mapping.shape[0]):\n",
    "            self.transform_mapping[i][i] = 1.0\n",
    "    def transform(self, y):\n",
    "        return self.transform_mapping[int(y)]\n",
    "ohe = OneHotEncoder()"
   ]
  },
  {
   "cell_type": "code",
   "execution_count": 3,
   "metadata": {},
   "outputs": [],
   "source": [
    "def make_submission(X_test, net, fname=\"my_submission.csv\"):\n",
    "    with open(fname,'w') as fout:\n",
    "        fout.write('Id,Category')\n",
    "        for i in range(X_test.shape[0]):\n",
    "            y_h = net.forward(X_test[i])\n",
    "            y = np.argmax(y_h)\n",
    "            fout.write(\"\\n{},{}\".format(i, int(y)))"
   ]
  },
  {
   "cell_type": "code",
   "execution_count": 4,
   "metadata": {},
   "outputs": [],
   "source": [
    "# внимание, тут Y_test в обычном формате(не onehot)\n",
    "def compute_acc(X_test, Y_test, net):\n",
    "    acc = 0.0\n",
    "    for i in range(X_test.shape[0]):\n",
    "        y_h = net.forward(X_test[i])\n",
    "        y = np.argmax(y_h)\n",
    "        if(y == Y_test[i]):\n",
    "            acc += 1.0\n",
    "    return acc / Y_test.shape[0]"
   ]
  },
  {
   "cell_type": "code",
   "execution_count": 5,
   "metadata": {},
   "outputs": [],
   "source": [
    "train_data = None\n",
    "test_data = None\n",
    "encoder = OneHotEncoder()\n",
    "with open('data_train.pickle','rb') as fin:\n",
    "    train_data = pickle.load(fin)\n",
    "with open('data_test_no_labels.pickle','rb') as fin:\n",
    "    test_data = pickle.load(fin)\n",
    "    \n",
    "X_raw = train_data['data']\n",
    "Y_raw = train_data['target']\n",
    "Y_raw_oh = np.array(list(map(lambda x : encoder.transform(x), Y_raw)))\n",
    "\n",
    "\n",
    "X_final_test = test_data['data']"
   ]
  },
  {
   "cell_type": "code",
   "execution_count": 38,
   "metadata": {},
   "outputs": [
    {
     "data": {
      "image/png": "[encoded data removed]",
      "text/plain": [
       "<Figure size 432x288 with 16 Axes>"
      ]
     },
     "metadata": {
      "needs_background": "light"
     },
     "output_type": "display_data"
    }
   ],
   "source": [
    "n=4\n",
    "for i in range(n*n):\n",
    "    plt.subplot(n,n,i+1)\n",
    "    I = train_data['data'][np.random.randint(0, (X_test_norm).shape[0]),:]\n",
    "    I = I.reshape((28, 28))\n",
    "    plt.imshow(I, cmap='gray')"
   ]
  },
  {
   "cell_type": "code",
   "execution_count": 113,
   "metadata": {},
   "outputs": [],
   "source": [
    "# Подготовка датасета\n",
    "from sklearn.model_selection import train_test_split\n",
    "Xm = np.mean(X_raw, axis=0)\n",
    "Xs = np.std(X_raw, axis=0)\n",
    "\n",
    "X_train, X_test, Y_train, Y_test = train_test_split(X_raw, Y_raw, test_size=0.33, random_state=42)\n",
    "\n",
    "#перевод в onehot\n",
    "Y_train_oh = np.array(list(map(lambda x : encoder.transform(x), Y_train)))\n",
    "Y_test_oh = np.array(list(map(lambda x : encoder.transform(x), Y_test)))\n",
    "\n",
    "#нормирование данных\n",
    "X_train_norm = (X_train - Xm)/(Xs + 0.01)\n",
    "X_test_norm = (X_test - Xm) / (Xs + 0.01)\n",
    "X_final_test_norm = (X_final_test - Xm)/(Xs + 0.01)"
   ]
  },
  {
   "cell_type": "code",
   "execution_count": 114,
   "metadata": {},
   "outputs": [],
   "source": [
    "# Определение слоев сети\n",
    "class Dense:\n",
    "    def __init__(self, in_size, out_size, rlambda = 0.0):\n",
    "        self.W = np.random.normal(scale=1, size=(out_size, in_size)) * np.sqrt(2/(out_size + in_size))\n",
    "        self.b = np.zeros(out_size)\n",
    "        self.rlambda = rlambda\n",
    "        \n",
    "    def forward(self, x):\n",
    "        self.x = x # запоминаем для обратного прохода\n",
    "        return np.dot(self.W, x) + self.b\n",
    "    \n",
    "    def get_reg_loss(self):\n",
    "        return 0.5 * self.rlambda * (np.linalg.norm(self.W, ord='fro') ** 2)\n",
    "    \n",
    "    def backward(self, dz, lr=0.001):\n",
    "        # вычисляем градиенты по параметрам (запоминаем их для отладки)\n",
    "        self.dW = np.outer(dz, self.x)\n",
    "        self.db = dz\n",
    "        # вычисляем производную по входу\n",
    "        self.dx = np.matmul(dz, self.W) \n",
    "        # рассчитываем градиенты от регуляризатора\n",
    "        if(self.rlambda != 0):\n",
    "            self.dW += self.rlambda * self.W\n",
    "        # обновляем веса\n",
    "        self.W = self.W - lr * self.dW\n",
    "        self.db = self.db - lr * self.db\n",
    "        # возвращаем dx для продолжения алгоритма\n",
    "        return self.dx"
   ]
  },
  {
   "cell_type": "code",
   "execution_count": 115,
   "metadata": {},
   "outputs": [],
   "source": [
    "#определение функций активации\n",
    "\n",
    "class Max:\n",
    "    \n",
    "    def forward(self, x):\n",
    "        self.x = x\n",
    "        return np.maximum(0, x)\n",
    "    \n",
    "    def backward(self, dz, lr=0.1):\n",
    "        dz[self.x < 0] = 0\n",
    "        return lr*dz\n",
    "\n",
    "class Softmax:\n",
    "    \n",
    "    def forward(self, x):\n",
    "        self.x = x\n",
    "        return np.exp(x)/np.sum(np.exp(x), axis=0)\n",
    "    \n",
    "    def backward(self, dz, lr=0.001):\n",
    "        kroneker = np.identity(dz.size)\n",
    "        a = np.exp(self.x)/np.sum(np.exp(self.x), axis=0)\n",
    "        matrix = np.zeros((dz.size, dz.size))\n",
    "        for i in range(dz.size):\n",
    "            for k in range(dz.size):\n",
    "                matrix[i][k] = a[i]*(kroneker[i][k]-a[k])\n",
    "        return lr*matrix.dot(dz)"
   ]
  },
  {
   "cell_type": "code",
   "execution_count": 116,
   "metadata": {},
   "outputs": [],
   "source": [
    "#кросс-энтропия\n",
    "class CrossEntropy:\n",
    "    \n",
    "    def forward(self, y_true, y_hat):\n",
    "        self.y_true = y_true\n",
    "        self.y_hat = y_hat\n",
    "        return np.sum(-y_true*np.log(y_hat))\n",
    "    \n",
    "    def backward(self, dz, lr=0.001):\n",
    "        return -lr*self.y_true/self.y_hat*dz"
   ]
  },
  {
   "cell_type": "code",
   "execution_count": 145,
   "metadata": {},
   "outputs": [],
   "source": [
    "# Опеределение самой сети\n",
    "class MnistNet:\n",
    "    \n",
    "    def __init__(self, rlambda=0.0):\n",
    "        self.d1 = Dense(784, 28, rlambda)\n",
    "        self.m = Max()\n",
    "        self.d2 = Dense(28, 10, rlambda)\n",
    "        self.s = Softmax()\n",
    "    \n",
    "    def forward(self, x):\n",
    "        net = self.d1.forward(x)\n",
    "        net = self.m.forward(net)\n",
    "        net = self.d2.forward(net)\n",
    "        net = self.s.forward(net)\n",
    "        return net\n",
    "    \n",
    "    def backward(self, dz, lr):\n",
    "        dz = self.s.backward(dz, lr)\n",
    "        dz = self.d2.backward(dz, lr)\n",
    "        dz = self.m.backward(dz, lr)\n",
    "        dz = self.d1.backward(dz, lr)\n",
    "        return dz"
   ]
  },
  {
   "cell_type": "code",
   "execution_count": 149,
   "metadata": {},
   "outputs": [
    {
     "name": "stdout",
     "output_type": "stream",
     "text": [
      "0 iter loss. Train : 0.8081517509782419 . Test : 0.4249291972245329\n",
      "1 iter loss. Train : 0.3662524175622146 . Test : 0.3264926768436943\n",
      "2 iter loss. Train : 0.29035393622101735 . Test : 0.28546358141150696\n",
      "3 iter loss. Train : 0.25118342319448356 . Test : 0.26033835639256\n",
      "4 iter loss. Train : 0.22517954779948055 . Test : 0.2438732354292874\n",
      "5 iter loss. Train : 0.20645079784054435 . Test : 0.23201083064140712\n",
      "6 iter loss. Train : 0.19205889166197196 . Test : 0.22198809616978726\n",
      "7 iter loss. Train : 0.17968881962144795 . Test : 0.2140867621160424\n",
      "8 iter loss. Train : 0.16992170570784443 . Test : 0.20681935317061495\n",
      "9 iter loss. Train : 0.16127207489048806 . Test : 0.20078667104654416\n",
      "10 iter loss. Train : 0.1537055730648148 . Test : 0.19598564743932603\n",
      "11 iter loss. Train : 0.14752880200445231 . Test : 0.19006256626570464\n",
      "12 iter loss. Train : 0.14202808049370913 . Test : 0.18688690344137562\n",
      "13 iter loss. Train : 0.1370575571539357 . Test : 0.18371379649726355\n",
      "14 iter loss. Train : 0.13276113842147022 . Test : 0.17945583487490177\n",
      "15 iter loss. Train : 0.12878010086096994 . Test : 0.1761442359908218\n",
      "16 iter loss. Train : 0.12507006682185537 . Test : 0.1737654201946932\n",
      "17 iter loss. Train : 0.12204978888363847 . Test : 0.17075607521742872\n",
      "18 iter loss. Train : 0.11891730887060135 . Test : 0.1685229827083598\n",
      "19 iter loss. Train : 0.11641017987685777 . Test : 0.16695472058369593\n",
      "20 iter loss. Train : 0.11429528978177872 . Test : 0.16470034947531784\n",
      "21 iter loss. Train : 0.11186984769424867 . Test : 0.16260544802250096\n",
      "22 iter loss. Train : 0.10986528594288844 . Test : 0.16115300118642245\n",
      "23 iter loss. Train : 0.10810039481142708 . Test : 0.15951859301814567\n",
      "24 iter loss. Train : 0.10619738890674976 . Test : 0.15771076933932324\n",
      "25 iter loss. Train : 0.10465980996781307 . Test : 0.15620587613630613\n",
      "26 iter loss. Train : 0.10299222811601755 . Test : 0.15494067281792584\n",
      "27 iter loss. Train : 0.10131247897732354 . Test : 0.15377650169789392\n",
      "28 iter loss. Train : 0.10028717981178134 . Test : 0.15289673561680586\n",
      "29 iter loss. Train : 0.09885590293404495 . Test : 0.15123842263370293\n",
      "30 iter loss. Train : 0.09744467004885056 . Test : 0.14996631556548443\n",
      "31 iter loss. Train : 0.09691513490464312 . Test : 0.1489727196319172\n",
      "32 iter loss. Train : 0.09553428496427935 . Test : 0.14766676182951957\n",
      "33 iter loss. Train : 0.09490137414971306 . Test : 0.14723359726659652\n",
      "34 iter loss. Train : 0.09373220039620066 . Test : 0.14616426853614858\n",
      "35 iter loss. Train : 0.09291961399925411 . Test : 0.1447173117994035\n",
      "36 iter loss. Train : 0.09185603491834869 . Test : 0.1441956095468421\n",
      "37 iter loss. Train : 0.09104026291364166 . Test : 0.1430205907339004\n",
      "38 iter loss. Train : 0.09025629690939799 . Test : 0.14288175037104414\n",
      "39 iter loss. Train : 0.08979077498338779 . Test : 0.14200330172034778\n",
      "40 iter loss. Train : 0.08890383353866571 . Test : 0.14165180473556196\n",
      "41 iter loss. Train : 0.08842468355935512 . Test : 0.14117300204819322\n",
      "42 iter loss. Train : 0.08796227362028776 . Test : 0.13973580452824355\n",
      "43 iter loss. Train : 0.08735131204848899 . Test : 0.1397634269199134\n",
      "44 iter loss. Train : 0.08693015315376068 . Test : 0.13907309619108105\n",
      "45 iter loss. Train : 0.08631554532625275 . Test : 0.13831139652513733\n",
      "46 iter loss. Train : 0.0857862769917212 . Test : 0.137659166225719\n",
      "47 iter loss. Train : 0.0854598047022544 . Test : 0.13812906254877216\n",
      "48 iter loss. Train : 0.08502898826583757 . Test : 0.1363674117117421\n",
      "49 iter loss. Train : 0.08442683916514973 . Test : 0.13657835742590677\n",
      "50 iter loss. Train : 0.08402661168248188 . Test : 0.13579507323515452\n",
      "51 iter loss. Train : 0.08370226189122405 . Test : 0.13545413547378848\n",
      "52 iter loss. Train : 0.08320271940628389 . Test : 0.13518357658051816\n",
      "53 iter loss. Train : 0.08283973963398623 . Test : 0.13546330779604684\n",
      "54 iter loss. Train : 0.0825147047512192 . Test : 0.13416598520562825\n",
      "55 iter loss. Train : 0.08214625250158551 . Test : 0.13415938255489385\n",
      "56 iter loss. Train : 0.08173911570381666 . Test : 0.133451489322172\n",
      "57 iter loss. Train : 0.08164632099553126 . Test : 0.13292396315162966\n",
      "58 iter loss. Train : 0.08149570961338137 . Test : 0.13214351507360206\n",
      "59 iter loss. Train : 0.0811969994881211 . Test : 0.1322512129918388\n",
      "60 iter loss. Train : 0.08085258641158176 . Test : 0.1315945516574206\n",
      "61 iter loss. Train : 0.08067197677834309 . Test : 0.1313946726580092\n",
      "62 iter loss. Train : 0.08032928509335842 . Test : 0.13169326527849803\n",
      "63 iter loss. Train : 0.08001972552231917 . Test : 0.1307062975031575\n",
      "64 iter loss. Train : 0.07982581154036901 . Test : 0.13092963366895982\n",
      "65 iter loss. Train : 0.07964407240664925 . Test : 0.13098787655747918\n",
      "66 iter loss. Train : 0.0793670890836397 . Test : 0.13012728807353782\n",
      "67 iter loss. Train : 0.07926323198986551 . Test : 0.13033542037677348\n",
      "68 iter loss. Train : 0.0788581644484305 . Test : 0.1295089366800066\n",
      "69 iter loss. Train : 0.07869656545708173 . Test : 0.129736356664245\n",
      "70 iter loss. Train : 0.07860976700142554 . Test : 0.12961779044937438\n",
      "71 iter loss. Train : 0.07842171388295112 . Test : 0.12924959332060582\n",
      "72 iter loss. Train : 0.07819016727727834 . Test : 0.12914266465288\n",
      "73 iter loss. Train : 0.07812128175672144 . Test : 0.12872758113716445\n",
      "74 iter loss. Train : 0.07794110967811287 . Test : 0.12754051056152613\n",
      "75 iter loss. Train : 0.07775136195512308 . Test : 0.12788674910620262\n",
      "76 iter loss. Train : 0.07765508584261945 . Test : 0.1277763277823392\n",
      "77 iter loss. Train : 0.077457890300275 . Test : 0.12775705119237507\n",
      "78 iter loss. Train : 0.07732297290278062 . Test : 0.12787052457738185\n",
      "79 iter loss. Train : 0.07730714727865276 . Test : 0.1277209410602708\n",
      "80 iter loss. Train : 0.07695066582144316 . Test : 0.12796136375251763\n",
      "81 iter loss. Train : 0.076924243988397 . Test : 0.1280601116056948\n",
      "82 iter loss. Train : 0.07680048405246 . Test : 0.12726032603326437\n",
      "83 iter loss. Train : 0.07663905160043809 . Test : 0.12720872892856402\n",
      "84 iter loss. Train : 0.07654024676858165 . Test : 0.1271279482786366\n",
      "85 iter loss. Train : 0.07636592896401312 . Test : 0.12669527562098476\n",
      "86 iter loss. Train : 0.0762103616921662 . Test : 0.1267251811908096\n",
      "87 iter loss. Train : 0.07617312411239206 . Test : 0.12664959461756464\n",
      "88 iter loss. Train : 0.07612545414551336 . Test : 0.12625031486211052\n",
      "89 iter loss. Train : 0.07583443337705437 . Test : 0.12625073209705687\n",
      "90 iter loss. Train : 0.07583434086675654 . Test : 0.12639509215972203\n",
      "91 iter loss. Train : 0.07572749184031308 . Test : 0.1256695371107315\n",
      "92 iter loss. Train : 0.07563531036305282 . Test : 0.1254836658776658\n",
      "93 iter loss. Train : 0.07550841470620043 . Test : 0.12548477840776828\n",
      "94 iter loss. Train : 0.07530534915318553 . Test : 0.12640471146801385\n",
      "95 iter loss. Train : 0.07533859883768966 . Test : 0.1255813284733796\n",
      "96 iter loss. Train : 0.07532869959583127 . Test : 0.12583338304363276\n",
      "97 iter loss. Train : 0.07522182260107538 . Test : 0.12551377297091026\n",
      "98 iter loss. Train : 0.07514764482475558 . Test : 0.12475828045794299\n",
      "99 iter loss. Train : 0.07502019706671127 . Test : 0.12534047375203486\n"
     ]
    }
   ],
   "source": [
    "# Здесь процедура обучения\n",
    "net = MnistNet(1e-5)\n",
    "loss = CrossEntropy()\n",
    "lr = 1e-1\n",
    "L_train = []\n",
    "acc_train = []\n",
    "L_test = []\n",
    "acc_test = []\n",
    "n_iter = 0\n",
    "for iter in range(100):\n",
    "    L_acc = 0.\n",
    "    sh = list(range(X_train_norm.shape[0])) # больше рандома богу рандома\n",
    "    np.random.shuffle(sh)\n",
    "    for i in range(X_train_norm.shape[0]):\n",
    "        x = X_train_norm[sh[i]]\n",
    "        y = Y_train_oh[sh[i]]\n",
    "        y_h = net.forward(x)\n",
    "        L = loss.forward(y, y_h) #+ net.get_reg_loss()\n",
    "        L_acc += L \n",
    "        dz = loss.backward(1, lr)\n",
    "        dz = net.backward(dz, lr)\n",
    "    L_acc /= Y_train_oh.shape[0]\n",
    "    L_train.append(L_acc)\n",
    "    L_e_acc = 0.\n",
    "    for i in range(X_test.shape[0]):\n",
    "        x = X_test_norm[i]\n",
    "        y = Y_test_oh[i]\n",
    "        y_h = net.forward(x)\n",
    "        L = loss.forward(y, y_h) #+ net.get_reg_loss()\n",
    "        L_e_acc += L\n",
    "    L_e_acc /= Y_test.shape[0]\n",
    "    L_test.append(L_e_acc)\n",
    "    acc_train.append(compute_acc(X_train_norm, Y_train, net))\n",
    "    acc_test.append(compute_acc(X_test_norm, Y_test, net))\n",
    "    print(\"{} iter loss. Train : {} . Test : {}\".format(iter, L_acc, L_e_acc))"
   ]
  },
  {
   "cell_type": "code",
   "execution_count": 150,
   "metadata": {},
   "outputs": [
    {
     "data": {
      "text/plain": [
       "<matplotlib.legend.Legend at 0x7fd3e78b0dd8>"
      ]
     },
     "execution_count": 150,
     "metadata": {},
     "output_type": "execute_result"
    },
    {
     "data": {
      "image/png": "[encoded data removed]",
      "text/plain": [
       "<Figure size 432x288 with 1 Axes>"
      ]
     },
     "metadata": {
      "needs_background": "light"
     },
     "output_type": "display_data"
    }
   ],
   "source": [
    "# Здесь необходимо отрисовать графики CrossEntropyLoss для обучающей и валидационной выборок\n",
    "plt.plot(L_train, label=\"train\")\n",
    "plt.plot(L_test, label=\"test\")\n",
    "plt.legend(loc='best')"
   ]
  },
  {
   "cell_type": "code",
   "execution_count": 151,
   "metadata": {},
   "outputs": [
    {
     "data": {
      "text/plain": [
       "<matplotlib.legend.Legend at 0x7fd3e76ee4e0>"
      ]
     },
     "execution_count": 151,
     "metadata": {},
     "output_type": "execute_result"
    },
    {
     "data": {
      "image/png": "[encoded data removed]",
      "text/plain": [
       "<Figure size 432x288 with 1 Axes>"
      ]
     },
     "metadata": {
      "needs_background": "light"
     },
     "output_type": "display_data"
    }
   ],
   "source": [
    "#подсчет точности\n",
    "plt.plot(acc_train, label=\"train\")\n",
    "plt.plot(acc_test, label=\"test\")\n",
    "plt.legend(loc='best')"
   ]
  },
  {
   "cell_type": "code",
   "execution_count": 152,
   "metadata": {},
   "outputs": [],
   "source": [
    "# формируем сабмишшен и заливаем его на kaggle\n",
    "make_submission(X_final_test_norm, net)"
   ]
  },
  {
   "cell_type": "code",
   "execution_count": null,
   "metadata": {},
   "outputs": [],
   "source": []
  }
 ],
 "metadata": {
  "kernelspec": {
   "display_name": "Python 3",
   "language": "python",
   "name": "python3"
  },
  "language_info": {
   "codemirror_mode": {
    "name": "ipython",
    "version": 3
   },
   "file_extension": ".py",
   "mimetype": "text/x-python",
   "name": "python",
   "nbconvert_exporter": "python",
   "pygments_lexer": "ipython3",
   "version": "3.6.6"
  }
 },
 "nbformat": 4,
 "nbformat_minor": 2
}
